{
  "nbformat": 4,
  "nbformat_minor": 0,
  "metadata": {
    "accelerator": "GPU",
    "colab": {
      "name": "Art2000Stylegan2FinalProject.ipynb",
      "private_outputs": true,
      "provenance": [],
      "collapsed_sections": [],
      "machine_shape": "hm",
      "include_colab_link": true
    },
    "kernelspec": {
      "display_name": "Python 3",
      "name": "python3"
    }
  },
  "cells": [
    {
      "cell_type": "markdown",
      "metadata": {
        "id": "view-in-github",
        "colab_type": "text"
      },
      "source": [
        "<a href=\"https://colab.research.google.com/github/afrojaakter/stylegan2/blob/master/Art2000Stylegan2FinalProject.ipynb\" target=\"_parent\"><img src=\"https://colab.research.google.com/assets/colab-badge.svg\" alt=\"Open In Colab\"/></a>"
      ]
    },
    {
      "cell_type": "code",
      "metadata": {
        "id": "9v94ODkG9iia"
      },
      "source": [
        "from google.colab import drive\n",
        "drive.mount('/content/gdrive')"
      ],
      "execution_count": null,
      "outputs": []
    },
    {
      "cell_type": "code",
      "metadata": {
        "id": "Ne2_S8TF_HKr"
      },
      "source": [
        "import os\n",
        "os.environ['KAGGLE_CONFIG_DIR'] = \"/content/gdrive/My Drive/Kaggle\"\n",
        "# /content/gdrive/My Drive/Kaggle is the path where kaggle.json is present in the Google Drive"
      ],
      "execution_count": null,
      "outputs": []
    },
    {
      "cell_type": "code",
      "metadata": {
        "id": "3fiWC_X3_3Q6"
      },
      "source": [
        "#changing the working directory\n",
        "%cd /content/gdrive/My Drive/Kaggle/abstract-art-gallery"
      ],
      "execution_count": null,
      "outputs": []
    },
    {
      "cell_type": "code",
      "metadata": {
        "id": "rQ8wrqT5AOl1"
      },
      "source": [
        "#downloading dataset from kaggle\n",
        "!kaggle datasets download -d bryanb/abstract-art-gallery"
      ],
      "execution_count": null,
      "outputs": []
    },
    {
      "cell_type": "code",
      "metadata": {
        "id": "M0bUAxinAYTh"
      },
      "source": [
        "#unzipping the zip files and deleting the zip files\n",
        "!unzip \\*.zip  && rm *.zip"
      ],
      "execution_count": null,
      "outputs": []
    },
    {
      "cell_type": "code",
      "metadata": {
        "id": "FLvw4MYRAcIk"
      },
      "source": [
        "#run it only once.\n",
        "#creating repositories for stylegan2\n",
        "%cd /content/gdrive/My\\ Drive/\n",
        "!mkdir stylegan2-colab-abstract-art-gallery\n",
        "%cd stylegan2-colab-abstract-art-gallery/\n",
        "!git clone https://github.com/dvschultz/stylegan2\n",
        "%cd stylegan2\n",
        "!mkdir pkl\n",
        "%cd pkl\n",
        "!gdown --id 1JLqXE5bGZnlu2BkbLPD5_ZxoO3Nz-AvF \n",
        "%cd ../\n",
        "!mkdir results\n",
        "!mkdir results/00001-pretrained\n",
        "%cd results/00001-pretrained\n",
        "!gdown --id 1UlDmJVLLnBD9SnLSMXeiZRO6g-OMQCA_\n",
        "!mv stylegan2-ffhq-config-f.pkl network-snapshot-10000.pkl\n",
        "%cd ../../\n",
        "%mkdir datasets\n",
        "%mkdir datasets/tfRecords\n",
        "%mkdir datasets/SquareImages"
      ],
      "execution_count": null,
      "outputs": []
    },
    {
      "cell_type": "code",
      "metadata": {
        "id": "LQwlk_4fA4pM"
      },
      "source": [
        "%tensorflow_version 1.x\n",
        "#USE this if you already have a stylegan2 folder in google drive\n",
        "%cd /content/gdrive/My\\ Drive/stylegan2-colab-abstract-art-gallery/stylegan2\n",
        "!git pull"
      ],
      "execution_count": null,
      "outputs": []
    },
    {
      "cell_type": "code",
      "metadata": {
        "id": "nfWYDM5yBVE6"
      },
      "source": [
        "#!/usr/bin/python\n",
        "from PIL import Image\n",
        "import os, sys\n",
        "\n",
        "path = \"/content/gdrive/MyDrive/Kaggle/abstract-art-gallery/Abstract_gallery/\" \n",
        "#path2 = \"/content/gdrive/MyDrive/Kaggle/images/images/William_Turner/\"\n",
        "#path = os.path.join(path1, path2)\n",
        "dirs = os.listdir(path)\n",
        "\n",
        "def resize_dataset():\n",
        "    for item in dirs:\n",
        "        #print(item)\n",
        "        im = Image.open(path+item)\n",
        "        f, e = os.path.splitext(path+item)\n",
        "        imResize = im.resize((1024,1024), Image.ANTIALIAS)\n",
        "        imResize.save('/content/gdrive/MyDrive/stylegan2-colab-abstract-art-gallery/stylegan2/datasets/SquareImages/' + item, 'JPEG', quality=90)\n",
        "\n",
        "resize_dataset()"
      ],
      "execution_count": null,
      "outputs": []
    },
    {
      "cell_type": "code",
      "metadata": {
        "id": "VPGOotkaBnfw"
      },
      "source": [
        "#2nd argument is where to put your tfrecords files\n",
        "#3rd should point at your image dataset\n",
        "!python dataset_tool.py create_from_images ./Datasets/tfRecords /content/gdrive/MyDrive/stylegan2-colab-abstract-art-gallery/stylegan2/datasets/SquareImages"
      ],
      "execution_count": null,
      "outputs": []
    },
    {
      "cell_type": "code",
      "metadata": {
        "id": "yHBPMcOAHC60"
      },
      "source": [
        "!python run_training.py --num-gpus=1 --data-dir=./Datasets --config=config-f --dataset=tfRecords --mirror-augment=true --metrics=fid50k"
      ],
      "execution_count": null,
      "outputs": []
    },
    {
      "cell_type": "code",
      "metadata": {
        "id": "QHkgE146ypTY"
      },
      "source": [
        "%load_ext tensorboard\n",
        "%tensorboard --logdir results/"
      ],
      "execution_count": null,
      "outputs": []
    },
    {
      "cell_type": "code",
      "metadata": {
        "id": "iqwoCkWquENz"
      },
      "source": [
        "!pip install opensimplex"
      ],
      "execution_count": null,
      "outputs": []
    },
    {
      "cell_type": "code",
      "metadata": {
        "id": "vWMVeNfpu99Y"
      },
      "source": [
        "!python run_generator.py generate-images --network=/content/gdrive/MyDrive/stylegan2-colab-abstract-art-gallery/stylegan2/results/00017-stylegan2-tfRecords-1gpu-config-f/network-snapshot-010851.pkl --seeds=1-60 --truncation-psi=1.0"
      ],
      "execution_count": null,
      "outputs": []
    },
    {
      "cell_type": "code",
      "metadata": {
        "id": "_zc4TeC4xWeJ"
      },
      "source": [
        "!zip -r generated-0.4.zip /content/gdrive/MyDrive/stylegan2-colab/stylegan2/results/00010-generate-images"
      ],
      "execution_count": null,
      "outputs": []
    },
    {
      "cell_type": "code",
      "metadata": {
        "id": "jBB0O9kFxXa_"
      },
      "source": [
        "!python run_generator.py generate-latent-walk --network=/content/gdrive/MyDrive/stylegan2-colab-abstract-art-gallery/stylegan2/results/00017-stylegan2-tfRecords-1gpu-config-f/network-snapshot-010851.pkl --seeds=3,11,17,25,3 --frames 200 --truncation-psi=0.7"
      ],
      "execution_count": null,
      "outputs": []
    },
    {
      "cell_type": "code",
      "metadata": {
        "id": "aO39Uewrxbvx"
      },
      "source": [
        "#convert to video /content/gdrive/MyDrive/stylegan2-colab-abstract-art-gallery/stylegan2/results/00005-generate-latent-walk\n",
        "!ffmpeg -r 24 -i ./results/00005-generate-latent-walk/frame%05d.png -vcodec libx264 -pix_fmt yuv420p latent-walk-v2.mp4"
      ],
      "execution_count": null,
      "outputs": []
    },
    {
      "cell_type": "code",
      "metadata": {
        "id": "z6yUz7lZSdoe"
      },
      "source": [
        "ls"
      ],
      "execution_count": null,
      "outputs": []
    },
    {
      "cell_type": "code",
      "metadata": {
        "id": "g-PUWPtt-U0D"
      },
      "source": [
        "!ffmpeg -r 24 -i ./results/00008-generate-images/seed%4d.png -vcodec libx264 -pix_fmt yuv420p latent-walk-v2.mp4"
      ],
      "execution_count": null,
      "outputs": []
    },
    {
      "cell_type": "code",
      "metadata": {
        "id": "j0ggEDYqQqp4"
      },
      "source": [
        "#/content/gdrive/MyDrive/stylegan2-colab-abstract-art-gallery/stylegan2/results/00007-stylegan2-tfRecords-1gpu-config-f\n",
        "!ffmpeg -r 24 -i ./results/00007-stylegan2-tfRecords-1gpu-config-f/fakes01%5d.jpg -vcodec libx264 -pix_fmt yuv420p testwalk-v2.mp4"
      ],
      "execution_count": null,
      "outputs": []
    },
    {
      "cell_type": "code",
      "metadata": {
        "id": "i8EoqE8qMHE7"
      },
      "source": [
        ""
      ],
      "execution_count": null,
      "outputs": []
    },
    {
      "cell_type": "code",
      "metadata": {
        "id": "HdHJdQWajNOb"
      },
      "source": [
        "#/content/gdrive/MyDrive/stylegan2-colab-abstract-art-gallery/stylegan2/results/00007-stylegan2-tfRecords-1gpu-config-f\n",
        "\n",
        "#%cd /content/gdrive/My\\ Drive/stylegan2-colab-abstract-art-gallery/stylegan2/results/00007-stylegan2-tfRecords-1gpu-config-f\n",
        "!ffmpeg -pattern_type glob -i '*.jpg' -vcodec libx264 out.mp4"
      ],
      "execution_count": null,
      "outputs": []
    },
    {
      "cell_type": "code",
      "metadata": {
        "id": "fCXuguIeGWM5"
      },
      "source": [
        "#!ffmpeg -r 60 -f image2 -s 1920x1080 -start_number 010000 -i fakes%06d.jpg -vframes 100 -vcodec libx264 -crf 25  -pix_fmt yuv420p test1.mp4\n",
        "!ffmpeg -pattern_type glob -i '*.jpg' -vcodec libx264 out.mp4"
      ],
      "execution_count": null,
      "outputs": []
    },
    {
      "cell_type": "markdown",
      "metadata": {
        "id": "Bwa0RzfDjXVX"
      },
      "source": [
        ""
      ]
    },
    {
      "cell_type": "code",
      "metadata": {
        "id": "pFyrGD0FjNVQ"
      },
      "source": [
        "!ffmpeg -start_number 010000 -i 'fakes0%5d.jpg' -c:v libx264 out.mp4"
      ],
      "execution_count": null,
      "outputs": []
    }
  ]
}